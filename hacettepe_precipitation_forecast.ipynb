{
 "cells": [
  {
   "cell_type": "code",
   "execution_count": null,
   "metadata": {},
   "outputs": [],
   "source": [
    "# importing necessary modules\n",
    "\n",
    "import pandas as pd\n",
    "import numpy as np\n",
    "\n",
    "import os\n",
    "for dirname, _, filenames in os.walk('dataset'):\n",
    "    for filename in filenames:\n",
    "        print(os.path.join(dirname, filename))"
   ]
  },
  {
   "cell_type": "code",
   "execution_count": null,
   "metadata": {},
   "outputs": [],
   "source": [
    "def merge_csv(path_to_csv1: str, path_to_csv2: str):\n",
    "    data1 = pd.read_csv(path_to_csv1)\n",
    "    data2 = pd.read_csv(path_to_csv2)\n",
    "\n",
    "    # Union of columns\n",
    "    columns = list(set(data1.columns | data2.columns))\n",
    "\n",
    "    d = {col: data1[col] if col in data1.columns else data2[col] for col in columns}\n",
    "    merged_data = pd.DataFrame(data=d)\n",
    "\n",
    "    # Rearranging columns\n",
    "    new_order = ['DY', 'MO', 'YEAR', 'LAT', 'LON']\n",
    "    columns_list = merged_data.columns.tolist()\n",
    "    for col_name in new_order:\n",
    "        columns_list.remove(col_name)\n",
    "\n",
    "    columns_list = new_order + columns_list\n",
    "    merged_data = merged_data[columns_list]\n",
    "\n",
    "    return merged_data\n",
    "\n",
    "def organize_data(merged_data : pd.DataFrame):\n",
    "    organized_data = merged_data.copy()\n",
    "    # If data has KT (Insolation Clearness Index) column it must be converted to float\n",
    "    if 'KT' in merged_data:\n",
    "        # 'KT' column may have 2 different values that describes missing values. nan and -999.0\n",
    "        organized_data['KT'] = organized_data['KT'].replace('               nan', '-999')\n",
    "        organized_data['KT'] = organized_data['KT'].astype(float)\n",
    "\n",
    "\n",
    "    # Value for missing model data cannot be computed or out of model availability range: -999.0\n",
    "    # Replace these values to np.nan in order to use pre-defined functions effectively.\n",
    "    organized_data.replace(-999.0, np.nan, inplace=True)\n",
    "\n",
    "    return organized_data"
   ]
  },
  {
   "cell_type": "code",
   "execution_count": null,
   "metadata": {},
   "outputs": [],
   "source": [
    "df = organize_data(merge_csv(\"dataset\\csv1.csv\", \"dataset\\csv2.csv\"))"
   ]
  },
  {
   "cell_type": "markdown",
   "metadata": {},
   "source": [
    "### View dimensions of dataset"
   ]
  },
  {
   "cell_type": "code",
   "execution_count": null,
   "metadata": {},
   "outputs": [],
   "source": [
    "df.shape"
   ]
  },
  {
   "cell_type": "markdown",
   "metadata": {},
   "source": [
    "### Preview the dataset"
   ]
  },
  {
   "cell_type": "code",
   "execution_count": null,
   "metadata": {},
   "outputs": [],
   "source": [
    "df.head()"
   ]
  },
  {
   "cell_type": "markdown",
   "metadata": {},
   "source": [
    "### View column names"
   ]
  },
  {
   "cell_type": "code",
   "execution_count": null,
   "metadata": {},
   "outputs": [],
   "source": [
    "df.columns"
   ]
  },
  {
   "cell_type": "markdown",
   "metadata": {},
   "source": [
    "### View summary of dataset "
   ]
  },
  {
   "cell_type": "code",
   "execution_count": null,
   "metadata": {},
   "outputs": [],
   "source": [
    "df.info()"
   ]
  },
  {
   "cell_type": "markdown",
   "metadata": {},
   "source": [
    "### View statistical properties of dataset"
   ]
  },
  {
   "cell_type": "code",
   "execution_count": null,
   "metadata": {},
   "outputs": [],
   "source": [
    "df.describe()"
   ]
  },
  {
   "cell_type": "code",
   "execution_count": null,
   "metadata": {},
   "outputs": [],
   "source": [
    "today_precipitation = df['PRECTOT']\n",
    "tomorrow_precipitation = [1 if x > 0 else 0 for x in today_precipitation]\n",
    "tomorrow_precipitation.pop(0)\n",
    "tomorrow_precipitation.append(1)\n",
    "\n",
    "df['PRECTOT_TODAY'] = today_precipitation\n",
    "df['PRECTOT_TOMORROW'] = np.array(tomorrow_precipitation)\n",
    "df.drop(columns=['LAT', 'LON'], inplace=True)"
   ]
  },
  {
   "cell_type": "code",
   "execution_count": null,
   "metadata": {},
   "outputs": [],
   "source": [
    "df.info()"
   ]
  }
 ],
 "metadata": {
  "kernelspec": {
   "display_name": "Python 3",
   "language": "python",
   "name": "python3"
  },
  "language_info": {
   "codemirror_mode": {
    "name": "ipython",
    "version": 3
   },
   "file_extension": ".py",
   "mimetype": "text/x-python",
   "name": "python",
   "nbconvert_exporter": "python",
   "pygments_lexer": "ipython3",
   "version": "3.6.9"
  }
 },
 "nbformat": 4,
 "nbformat_minor": 4
}
