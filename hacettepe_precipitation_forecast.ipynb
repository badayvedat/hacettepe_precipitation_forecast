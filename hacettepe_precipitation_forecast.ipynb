{
 "cells": [
  {
   "cell_type": "markdown",
   "metadata": {},
   "source": [
    "## 1.The problem statement\n",
    "\n",
    "#TODO add problem statement"
   ]
  },
  {
   "cell_type": "markdown",
   "metadata": {},
   "source": [
    "## 2.Import libraries\n",
    "The first step in building the model is to import the necessary libraries."
   ]
  },
  {
   "cell_type": "code",
   "execution_count": 1,
   "metadata": {},
   "outputs": [
    {
     "name": "stdout",
     "output_type": "stream",
     "text": [
      "dataset\\csv1.csv\n",
      "dataset\\csv2.csv\n"
     ]
    }
   ],
   "source": [
    "# importing necessary modules\n",
    "\n",
    "import pandas as pd # data processing, CSV file I/O\n",
    "import numpy as np # linear algebra\n",
    "\n",
    "# libraries for plotting\n",
    "import matplotlib.pyplot as plt\n",
    "import seaborn as sns\n",
    "%matplotlib inline\n",
    "\n",
    "# Input data files are available in the './dataset' directory\n",
    "import os\n",
    "for dirname, _, filenames in os.walk('dataset'):\n",
    "    for filename in filenames:\n",
    "        print(os.path.join(dirname, filename))\n",
    "        "
   ]
  },
  {
   "cell_type": "code",
   "execution_count": 2,
   "metadata": {},
   "outputs": [],
   "source": [
    "def merge_csv(path_to_csv1: str, path_to_csv2: str):\n",
    "    data1 = pd.read_csv(path_to_csv1)\n",
    "    data2 = pd.read_csv(path_to_csv2)\n",
    "\n",
    "    # Union of columns\n",
    "    columns = list(set(data1.columns | data2.columns))\n",
    "\n",
    "    d = {col: data1[col] if col in data1.columns else data2[col] for col in columns}\n",
    "    merged_data = pd.DataFrame(data=d)\n",
    "\n",
    "    # Rearranging columns\n",
    "    new_order = ['DY', 'MO', 'YEAR', 'LAT', 'LON']\n",
    "    columns_list = merged_data.columns.tolist()\n",
    "    for col_name in new_order:\n",
    "        columns_list.remove(col_name)\n",
    "\n",
    "    columns_list = new_order + columns_list\n",
    "    merged_data = merged_data[columns_list]\n",
    "\n",
    "    return merged_data\n",
    "\n",
    "def organize_data(merged_data : pd.DataFrame):\n",
    "    organized_data = merged_data.copy()\n",
    "    # If data has KT (Insolation Clearness Index) column it must be converted to float\n",
    "    if 'KT' in merged_data:\n",
    "        # 'KT' column may have 2 different values that describes missing values. nan and -999.0\n",
    "        organized_data['KT'] = organized_data['KT'].replace('               nan', '-999')\n",
    "        organized_data['KT'] = organized_data['KT'].astype(float)\n",
    "\n",
    "\n",
    "    # Value for missing model data cannot be computed or out of model availability range: -999.0\n",
    "    # Replace these values to np.nan in order to use pre-defined functions effectively.\n",
    "    organized_data.replace(-999.0, np.nan, inplace=True)\n",
    "\n",
    "    return organized_data"
   ]
  },
  {
   "cell_type": "markdown",
   "metadata": {},
   "source": [
    "## 3.Import dataset"
   ]
  },
  {
   "cell_type": "code",
   "execution_count": 3,
   "metadata": {},
   "outputs": [],
   "source": [
    "df = organize_data(merge_csv(\"dataset\\csv1.csv\", \"dataset\\csv2.csv\"))"
   ]
  },
  {
   "cell_type": "markdown",
   "metadata": {},
   "source": [
    "## 4.Exploratory data analysis\n",
    "- We have imported the data\n",
    "\n",
    "- Now, its time to explore the data to gain insights about it"
   ]
  },
  {
   "cell_type": "markdown",
   "metadata": {},
   "source": [
    "### View dimensions of dataset"
   ]
  },
  {
   "cell_type": "code",
   "execution_count": 4,
   "metadata": {},
   "outputs": [
    {
     "data": {
      "text/plain": [
       "(2223, 28)"
      ]
     },
     "execution_count": 4,
     "metadata": {},
     "output_type": "execute_result"
    }
   ],
   "source": [
    "df.shape"
   ]
  },
  {
   "cell_type": "markdown",
   "metadata": {},
   "source": [
    "### Preview the dataset"
   ]
  },
  {
   "cell_type": "code",
   "execution_count": 5,
   "metadata": {},
   "outputs": [
    {
     "data": {
      "text/html": [
       "<div>\n",
       "<style scoped>\n",
       "    .dataframe tbody tr th:only-of-type {\n",
       "        vertical-align: middle;\n",
       "    }\n",
       "\n",
       "    .dataframe tbody tr th {\n",
       "        vertical-align: top;\n",
       "    }\n",
       "\n",
       "    .dataframe thead th {\n",
       "        text-align: right;\n",
       "    }\n",
       "</style>\n",
       "<table border=\"1\" class=\"dataframe\">\n",
       "  <thead>\n",
       "    <tr style=\"text-align: right;\">\n",
       "      <th></th>\n",
       "      <th>DY</th>\n",
       "      <th>MO</th>\n",
       "      <th>YEAR</th>\n",
       "      <th>LAT</th>\n",
       "      <th>LON</th>\n",
       "      <th>PRECTOT</th>\n",
       "      <th>WS50M</th>\n",
       "      <th>T2MDEW</th>\n",
       "      <th>WS50M_RANGE</th>\n",
       "      <th>CLRSKY_SFC_SW_DWN</th>\n",
       "      <th>...</th>\n",
       "      <th>KT</th>\n",
       "      <th>WS50M_MIN</th>\n",
       "      <th>ALLSKY_SFC_LW_DWN</th>\n",
       "      <th>T2M_RANGE</th>\n",
       "      <th>WS10M</th>\n",
       "      <th>T2MWET</th>\n",
       "      <th>QV2M</th>\n",
       "      <th>TS</th>\n",
       "      <th>T2M_MAX</th>\n",
       "      <th>T2M_MIN</th>\n",
       "    </tr>\n",
       "  </thead>\n",
       "  <tbody>\n",
       "    <tr>\n",
       "      <th>0</th>\n",
       "      <td>1</td>\n",
       "      <td>1</td>\n",
       "      <td>2015</td>\n",
       "      <td>39.75</td>\n",
       "      <td>32.75</td>\n",
       "      <td>10.26</td>\n",
       "      <td>3.52</td>\n",
       "      <td>0.83</td>\n",
       "      <td>4.13</td>\n",
       "      <td>NaN</td>\n",
       "      <td>...</td>\n",
       "      <td>0.40</td>\n",
       "      <td>2.14</td>\n",
       "      <td>7.06</td>\n",
       "      <td>6.22</td>\n",
       "      <td>2.56</td>\n",
       "      <td>0.84</td>\n",
       "      <td>4.53</td>\n",
       "      <td>2.09</td>\n",
       "      <td>4.72</td>\n",
       "      <td>-1.51</td>\n",
       "    </tr>\n",
       "    <tr>\n",
       "      <th>1</th>\n",
       "      <td>2</td>\n",
       "      <td>1</td>\n",
       "      <td>2015</td>\n",
       "      <td>39.75</td>\n",
       "      <td>32.75</td>\n",
       "      <td>0.32</td>\n",
       "      <td>4.07</td>\n",
       "      <td>-3.52</td>\n",
       "      <td>3.30</td>\n",
       "      <td>NaN</td>\n",
       "      <td>...</td>\n",
       "      <td>0.31</td>\n",
       "      <td>2.51</td>\n",
       "      <td>6.97</td>\n",
       "      <td>7.22</td>\n",
       "      <td>2.85</td>\n",
       "      <td>-3.51</td>\n",
       "      <td>3.25</td>\n",
       "      <td>-1.70</td>\n",
       "      <td>2.93</td>\n",
       "      <td>-4.29</td>\n",
       "    </tr>\n",
       "    <tr>\n",
       "      <th>2</th>\n",
       "      <td>3</td>\n",
       "      <td>1</td>\n",
       "      <td>2015</td>\n",
       "      <td>39.75</td>\n",
       "      <td>32.75</td>\n",
       "      <td>0.01</td>\n",
       "      <td>2.88</td>\n",
       "      <td>-3.57</td>\n",
       "      <td>4.12</td>\n",
       "      <td>NaN</td>\n",
       "      <td>...</td>\n",
       "      <td>0.52</td>\n",
       "      <td>0.57</td>\n",
       "      <td>6.45</td>\n",
       "      <td>7.97</td>\n",
       "      <td>2.08</td>\n",
       "      <td>-3.56</td>\n",
       "      <td>3.24</td>\n",
       "      <td>-2.49</td>\n",
       "      <td>3.41</td>\n",
       "      <td>-4.57</td>\n",
       "    </tr>\n",
       "    <tr>\n",
       "      <th>3</th>\n",
       "      <td>4</td>\n",
       "      <td>1</td>\n",
       "      <td>2015</td>\n",
       "      <td>39.75</td>\n",
       "      <td>32.75</td>\n",
       "      <td>0.73</td>\n",
       "      <td>5.77</td>\n",
       "      <td>-4.20</td>\n",
       "      <td>5.45</td>\n",
       "      <td>NaN</td>\n",
       "      <td>...</td>\n",
       "      <td>0.59</td>\n",
       "      <td>3.01</td>\n",
       "      <td>6.46</td>\n",
       "      <td>6.77</td>\n",
       "      <td>4.16</td>\n",
       "      <td>-4.18</td>\n",
       "      <td>3.10</td>\n",
       "      <td>-1.54</td>\n",
       "      <td>2.50</td>\n",
       "      <td>-4.27</td>\n",
       "    </tr>\n",
       "    <tr>\n",
       "      <th>4</th>\n",
       "      <td>5</td>\n",
       "      <td>1</td>\n",
       "      <td>2015</td>\n",
       "      <td>39.75</td>\n",
       "      <td>32.75</td>\n",
       "      <td>1.78</td>\n",
       "      <td>4.76</td>\n",
       "      <td>-4.08</td>\n",
       "      <td>5.13</td>\n",
       "      <td>NaN</td>\n",
       "      <td>...</td>\n",
       "      <td>0.36</td>\n",
       "      <td>2.93</td>\n",
       "      <td>6.81</td>\n",
       "      <td>5.96</td>\n",
       "      <td>3.46</td>\n",
       "      <td>-4.06</td>\n",
       "      <td>3.16</td>\n",
       "      <td>-0.85</td>\n",
       "      <td>2.51</td>\n",
       "      <td>-3.45</td>\n",
       "    </tr>\n",
       "  </tbody>\n",
       "</table>\n",
       "<p>5 rows × 28 columns</p>\n",
       "</div>"
      ],
      "text/plain": [
       "   DY  MO  YEAR    LAT    LON  PRECTOT  WS50M  T2MDEW  WS50M_RANGE  \\\n",
       "0   1   1  2015  39.75  32.75    10.26   3.52    0.83         4.13   \n",
       "1   2   1  2015  39.75  32.75     0.32   4.07   -3.52         3.30   \n",
       "2   3   1  2015  39.75  32.75     0.01   2.88   -3.57         4.12   \n",
       "3   4   1  2015  39.75  32.75     0.73   5.77   -4.20         5.45   \n",
       "4   5   1  2015  39.75  32.75     1.78   4.76   -4.08         5.13   \n",
       "\n",
       "   CLRSKY_SFC_SW_DWN  ...    KT  WS50M_MIN  ALLSKY_SFC_LW_DWN  T2M_RANGE  \\\n",
       "0                NaN  ...  0.40       2.14               7.06       6.22   \n",
       "1                NaN  ...  0.31       2.51               6.97       7.22   \n",
       "2                NaN  ...  0.52       0.57               6.45       7.97   \n",
       "3                NaN  ...  0.59       3.01               6.46       6.77   \n",
       "4                NaN  ...  0.36       2.93               6.81       5.96   \n",
       "\n",
       "   WS10M  T2MWET  QV2M    TS  T2M_MAX  T2M_MIN  \n",
       "0   2.56    0.84  4.53  2.09     4.72    -1.51  \n",
       "1   2.85   -3.51  3.25 -1.70     2.93    -4.29  \n",
       "2   2.08   -3.56  3.24 -2.49     3.41    -4.57  \n",
       "3   4.16   -4.18  3.10 -1.54     2.50    -4.27  \n",
       "4   3.46   -4.06  3.16 -0.85     2.51    -3.45  \n",
       "\n",
       "[5 rows x 28 columns]"
      ]
     },
     "execution_count": 5,
     "metadata": {},
     "output_type": "execute_result"
    }
   ],
   "source": [
    "df.head()"
   ]
  },
  {
   "cell_type": "markdown",
   "metadata": {},
   "source": [
    "### View column names"
   ]
  },
  {
   "cell_type": "code",
   "execution_count": 6,
   "metadata": {},
   "outputs": [
    {
     "data": {
      "text/plain": [
       "Index(['DY', 'MO', 'YEAR', 'LAT', 'LON', 'PRECTOT', 'WS50M', 'T2MDEW',\n",
       "       'WS50M_RANGE', 'CLRSKY_SFC_SW_DWN', 'T2M', 'WS50M_MAX', 'RH2M',\n",
       "       'WS10M_MAX', 'WS10M_RANGE', 'WS10M_MIN', 'ALLSKY_SFC_SW_DWN', 'PS',\n",
       "       'KT', 'WS50M_MIN', 'ALLSKY_SFC_LW_DWN', 'T2M_RANGE', 'WS10M', 'T2MWET',\n",
       "       'QV2M', 'TS', 'T2M_MAX', 'T2M_MIN'],\n",
       "      dtype='object')"
      ]
     },
     "execution_count": 6,
     "metadata": {},
     "output_type": "execute_result"
    }
   ],
   "source": [
    "df.columns"
   ]
  },
  {
   "cell_type": "markdown",
   "metadata": {},
   "source": [
    "### View summary of dataset "
   ]
  },
  {
   "cell_type": "code",
   "execution_count": 7,
   "metadata": {},
   "outputs": [
    {
     "name": "stdout",
     "output_type": "stream",
     "text": [
      "<class 'pandas.core.frame.DataFrame'>\n",
      "RangeIndex: 2223 entries, 0 to 2222\n",
      "Data columns (total 28 columns):\n",
      " #   Column             Non-Null Count  Dtype  \n",
      "---  ------             --------------  -----  \n",
      " 0   DY                 2223 non-null   int64  \n",
      " 1   MO                 2223 non-null   int64  \n",
      " 2   YEAR               2223 non-null   int64  \n",
      " 3   LAT                2223 non-null   float64\n",
      " 4   LON                2223 non-null   float64\n",
      " 5   PRECTOT            2223 non-null   float64\n",
      " 6   WS50M              2223 non-null   float64\n",
      " 7   T2MDEW             2223 non-null   float64\n",
      " 8   WS50M_RANGE        2223 non-null   float64\n",
      " 9   CLRSKY_SFC_SW_DWN  892 non-null    float64\n",
      " 10  T2M                2223 non-null   float64\n",
      " 11  WS50M_MAX          2223 non-null   float64\n",
      " 12  RH2M               2223 non-null   float64\n",
      " 13  WS10M_MAX          2223 non-null   float64\n",
      " 14  WS10M_RANGE        2223 non-null   float64\n",
      " 15  WS10M_MIN          2223 non-null   float64\n",
      " 16  ALLSKY_SFC_SW_DWN  2215 non-null   float64\n",
      " 17  PS                 2223 non-null   float64\n",
      " 18  KT                 2213 non-null   float64\n",
      " 19  WS50M_MIN          2223 non-null   float64\n",
      " 20  ALLSKY_SFC_LW_DWN  2221 non-null   float64\n",
      " 21  T2M_RANGE          2223 non-null   float64\n",
      " 22  WS10M              2223 non-null   float64\n",
      " 23  T2MWET             2223 non-null   float64\n",
      " 24  QV2M               2223 non-null   float64\n",
      " 25  TS                 2223 non-null   float64\n",
      " 26  T2M_MAX            2223 non-null   float64\n",
      " 27  T2M_MIN            2223 non-null   float64\n",
      "dtypes: float64(25), int64(3)\n",
      "memory usage: 486.4 KB\n"
     ]
    }
   ],
   "source": [
    "df.info()"
   ]
  },
  {
   "cell_type": "markdown",
   "metadata": {},
   "source": [
    "### View statistical properties of dataset"
   ]
  },
  {
   "cell_type": "code",
   "execution_count": 8,
   "metadata": {},
   "outputs": [
    {
     "data": {
      "text/html": [
       "<div>\n",
       "<style scoped>\n",
       "    .dataframe tbody tr th:only-of-type {\n",
       "        vertical-align: middle;\n",
       "    }\n",
       "\n",
       "    .dataframe tbody tr th {\n",
       "        vertical-align: top;\n",
       "    }\n",
       "\n",
       "    .dataframe thead th {\n",
       "        text-align: right;\n",
       "    }\n",
       "</style>\n",
       "<table border=\"1\" class=\"dataframe\">\n",
       "  <thead>\n",
       "    <tr style=\"text-align: right;\">\n",
       "      <th></th>\n",
       "      <th>DY</th>\n",
       "      <th>MO</th>\n",
       "      <th>YEAR</th>\n",
       "      <th>LAT</th>\n",
       "      <th>LON</th>\n",
       "      <th>PRECTOT</th>\n",
       "      <th>WS50M</th>\n",
       "      <th>T2MDEW</th>\n",
       "      <th>WS50M_RANGE</th>\n",
       "      <th>CLRSKY_SFC_SW_DWN</th>\n",
       "      <th>...</th>\n",
       "      <th>KT</th>\n",
       "      <th>WS50M_MIN</th>\n",
       "      <th>ALLSKY_SFC_LW_DWN</th>\n",
       "      <th>T2M_RANGE</th>\n",
       "      <th>WS10M</th>\n",
       "      <th>T2MWET</th>\n",
       "      <th>QV2M</th>\n",
       "      <th>TS</th>\n",
       "      <th>T2M_MAX</th>\n",
       "      <th>T2M_MIN</th>\n",
       "    </tr>\n",
       "  </thead>\n",
       "  <tbody>\n",
       "    <tr>\n",
       "      <th>count</th>\n",
       "      <td>2223.000000</td>\n",
       "      <td>2223.000000</td>\n",
       "      <td>2223.000000</td>\n",
       "      <td>2223.00</td>\n",
       "      <td>2223.00</td>\n",
       "      <td>2223.000000</td>\n",
       "      <td>2223.000000</td>\n",
       "      <td>2223.000000</td>\n",
       "      <td>2223.000000</td>\n",
       "      <td>892.000000</td>\n",
       "      <td>...</td>\n",
       "      <td>2213.000000</td>\n",
       "      <td>2223.000000</td>\n",
       "      <td>2221.000000</td>\n",
       "      <td>2223.000000</td>\n",
       "      <td>2223.000000</td>\n",
       "      <td>2223.000000</td>\n",
       "      <td>2223.000000</td>\n",
       "      <td>2223.000000</td>\n",
       "      <td>2223.000000</td>\n",
       "      <td>2223.000000</td>\n",
       "    </tr>\n",
       "    <tr>\n",
       "      <th>mean</th>\n",
       "      <td>15.736392</td>\n",
       "      <td>6.444894</td>\n",
       "      <td>2017.549258</td>\n",
       "      <td>39.75</td>\n",
       "      <td>32.75</td>\n",
       "      <td>1.135146</td>\n",
       "      <td>4.474215</td>\n",
       "      <td>3.421287</td>\n",
       "      <td>4.280571</td>\n",
       "      <td>5.861670</td>\n",
       "      <td>...</td>\n",
       "      <td>0.565522</td>\n",
       "      <td>2.398106</td>\n",
       "      <td>7.242490</td>\n",
       "      <td>12.481651</td>\n",
       "      <td>3.151988</td>\n",
       "      <td>3.433315</td>\n",
       "      <td>5.883792</td>\n",
       "      <td>11.872236</td>\n",
       "      <td>18.013536</td>\n",
       "      <td>5.531948</td>\n",
       "    </tr>\n",
       "    <tr>\n",
       "      <th>std</th>\n",
       "      <td>8.805415</td>\n",
       "      <td>3.486311</td>\n",
       "      <td>1.745556</td>\n",
       "      <td>0.00</td>\n",
       "      <td>0.00</td>\n",
       "      <td>2.635750</td>\n",
       "      <td>1.725476</td>\n",
       "      <td>5.977396</td>\n",
       "      <td>1.738452</td>\n",
       "      <td>1.947353</td>\n",
       "      <td>...</td>\n",
       "      <td>0.162429</td>\n",
       "      <td>1.642869</td>\n",
       "      <td>0.995509</td>\n",
       "      <td>3.607907</td>\n",
       "      <td>1.240530</td>\n",
       "      <td>5.895196</td>\n",
       "      <td>2.349482</td>\n",
       "      <td>10.079966</td>\n",
       "      <td>10.239055</td>\n",
       "      <td>7.881937</td>\n",
       "    </tr>\n",
       "    <tr>\n",
       "      <th>min</th>\n",
       "      <td>1.000000</td>\n",
       "      <td>1.000000</td>\n",
       "      <td>2015.000000</td>\n",
       "      <td>39.75</td>\n",
       "      <td>32.75</td>\n",
       "      <td>0.000000</td>\n",
       "      <td>0.780000</td>\n",
       "      <td>-14.840000</td>\n",
       "      <td>0.690000</td>\n",
       "      <td>2.490000</td>\n",
       "      <td>...</td>\n",
       "      <td>0.070000</td>\n",
       "      <td>0.030000</td>\n",
       "      <td>3.940000</td>\n",
       "      <td>2.210000</td>\n",
       "      <td>0.640000</td>\n",
       "      <td>-14.390000</td>\n",
       "      <td>1.230000</td>\n",
       "      <td>-14.640000</td>\n",
       "      <td>-7.090000</td>\n",
       "      <td>-17.460000</td>\n",
       "    </tr>\n",
       "    <tr>\n",
       "      <th>25%</th>\n",
       "      <td>8.000000</td>\n",
       "      <td>3.000000</td>\n",
       "      <td>2016.000000</td>\n",
       "      <td>39.75</td>\n",
       "      <td>32.75</td>\n",
       "      <td>0.000000</td>\n",
       "      <td>3.245000</td>\n",
       "      <td>-0.920000</td>\n",
       "      <td>2.980000</td>\n",
       "      <td>4.000000</td>\n",
       "      <td>...</td>\n",
       "      <td>0.470000</td>\n",
       "      <td>1.050000</td>\n",
       "      <td>6.530000</td>\n",
       "      <td>9.700000</td>\n",
       "      <td>2.280000</td>\n",
       "      <td>-0.865000</td>\n",
       "      <td>3.990000</td>\n",
       "      <td>3.150000</td>\n",
       "      <td>9.470000</td>\n",
       "      <td>-1.020000</td>\n",
       "    </tr>\n",
       "    <tr>\n",
       "      <th>50%</th>\n",
       "      <td>16.000000</td>\n",
       "      <td>6.000000</td>\n",
       "      <td>2018.000000</td>\n",
       "      <td>39.75</td>\n",
       "      <td>32.75</td>\n",
       "      <td>0.030000</td>\n",
       "      <td>4.240000</td>\n",
       "      <td>3.470000</td>\n",
       "      <td>4.060000</td>\n",
       "      <td>6.220000</td>\n",
       "      <td>...</td>\n",
       "      <td>0.640000</td>\n",
       "      <td>2.150000</td>\n",
       "      <td>7.280000</td>\n",
       "      <td>12.740000</td>\n",
       "      <td>2.950000</td>\n",
       "      <td>3.480000</td>\n",
       "      <td>5.490000</td>\n",
       "      <td>11.430000</td>\n",
       "      <td>18.300000</td>\n",
       "      <td>5.280000</td>\n",
       "    </tr>\n",
       "    <tr>\n",
       "      <th>75%</th>\n",
       "      <td>23.000000</td>\n",
       "      <td>9.000000</td>\n",
       "      <td>2019.000000</td>\n",
       "      <td>39.75</td>\n",
       "      <td>32.75</td>\n",
       "      <td>0.800000</td>\n",
       "      <td>5.400000</td>\n",
       "      <td>8.370000</td>\n",
       "      <td>5.310000</td>\n",
       "      <td>7.660000</td>\n",
       "      <td>...</td>\n",
       "      <td>0.690000</td>\n",
       "      <td>3.385000</td>\n",
       "      <td>8.030000</td>\n",
       "      <td>15.310000</td>\n",
       "      <td>3.780000</td>\n",
       "      <td>8.280000</td>\n",
       "      <td>7.700000</td>\n",
       "      <td>20.945000</td>\n",
       "      <td>27.035000</td>\n",
       "      <td>12.620000</td>\n",
       "    </tr>\n",
       "    <tr>\n",
       "      <th>max</th>\n",
       "      <td>31.000000</td>\n",
       "      <td>12.000000</td>\n",
       "      <td>2021.000000</td>\n",
       "      <td>39.75</td>\n",
       "      <td>32.75</td>\n",
       "      <td>22.270000</td>\n",
       "      <td>14.290000</td>\n",
       "      <td>16.200000</td>\n",
       "      <td>16.580000</td>\n",
       "      <td>8.630000</td>\n",
       "      <td>...</td>\n",
       "      <td>0.750000</td>\n",
       "      <td>10.470000</td>\n",
       "      <td>9.970000</td>\n",
       "      <td>21.750000</td>\n",
       "      <td>11.010000</td>\n",
       "      <td>16.200000</td>\n",
       "      <td>12.900000</td>\n",
       "      <td>30.990000</td>\n",
       "      <td>37.990000</td>\n",
       "      <td>21.900000</td>\n",
       "    </tr>\n",
       "  </tbody>\n",
       "</table>\n",
       "<p>8 rows × 28 columns</p>\n",
       "</div>"
      ],
      "text/plain": [
       "                DY           MO         YEAR      LAT      LON      PRECTOT  \\\n",
       "count  2223.000000  2223.000000  2223.000000  2223.00  2223.00  2223.000000   \n",
       "mean     15.736392     6.444894  2017.549258    39.75    32.75     1.135146   \n",
       "std       8.805415     3.486311     1.745556     0.00     0.00     2.635750   \n",
       "min       1.000000     1.000000  2015.000000    39.75    32.75     0.000000   \n",
       "25%       8.000000     3.000000  2016.000000    39.75    32.75     0.000000   \n",
       "50%      16.000000     6.000000  2018.000000    39.75    32.75     0.030000   \n",
       "75%      23.000000     9.000000  2019.000000    39.75    32.75     0.800000   \n",
       "max      31.000000    12.000000  2021.000000    39.75    32.75    22.270000   \n",
       "\n",
       "             WS50M       T2MDEW  WS50M_RANGE  CLRSKY_SFC_SW_DWN  ...  \\\n",
       "count  2223.000000  2223.000000  2223.000000         892.000000  ...   \n",
       "mean      4.474215     3.421287     4.280571           5.861670  ...   \n",
       "std       1.725476     5.977396     1.738452           1.947353  ...   \n",
       "min       0.780000   -14.840000     0.690000           2.490000  ...   \n",
       "25%       3.245000    -0.920000     2.980000           4.000000  ...   \n",
       "50%       4.240000     3.470000     4.060000           6.220000  ...   \n",
       "75%       5.400000     8.370000     5.310000           7.660000  ...   \n",
       "max      14.290000    16.200000    16.580000           8.630000  ...   \n",
       "\n",
       "                KT    WS50M_MIN  ALLSKY_SFC_LW_DWN    T2M_RANGE        WS10M  \\\n",
       "count  2213.000000  2223.000000        2221.000000  2223.000000  2223.000000   \n",
       "mean      0.565522     2.398106           7.242490    12.481651     3.151988   \n",
       "std       0.162429     1.642869           0.995509     3.607907     1.240530   \n",
       "min       0.070000     0.030000           3.940000     2.210000     0.640000   \n",
       "25%       0.470000     1.050000           6.530000     9.700000     2.280000   \n",
       "50%       0.640000     2.150000           7.280000    12.740000     2.950000   \n",
       "75%       0.690000     3.385000           8.030000    15.310000     3.780000   \n",
       "max       0.750000    10.470000           9.970000    21.750000    11.010000   \n",
       "\n",
       "            T2MWET         QV2M           TS      T2M_MAX      T2M_MIN  \n",
       "count  2223.000000  2223.000000  2223.000000  2223.000000  2223.000000  \n",
       "mean      3.433315     5.883792    11.872236    18.013536     5.531948  \n",
       "std       5.895196     2.349482    10.079966    10.239055     7.881937  \n",
       "min     -14.390000     1.230000   -14.640000    -7.090000   -17.460000  \n",
       "25%      -0.865000     3.990000     3.150000     9.470000    -1.020000  \n",
       "50%       3.480000     5.490000    11.430000    18.300000     5.280000  \n",
       "75%       8.280000     7.700000    20.945000    27.035000    12.620000  \n",
       "max      16.200000    12.900000    30.990000    37.990000    21.900000  \n",
       "\n",
       "[8 rows x 28 columns]"
      ]
     },
     "execution_count": 8,
     "metadata": {},
     "output_type": "execute_result"
    }
   ],
   "source": [
    "df.describe()"
   ]
  },
  {
   "cell_type": "code",
   "execution_count": 9,
   "metadata": {},
   "outputs": [],
   "source": [
    "today_precipitation = (df['PRECTOT'] > 0).astype(int)\n",
    "tomorrow_precipitation = [1 if x > 0 else 0 for x in today_precipitation]\n",
    "tomorrow_precipitation.pop(0)\n",
    "tomorrow_precipitation.append(1)\n",
    "\n",
    "df['PRECTOT_TODAY'] = today_precipitation\n",
    "df['PRECTOT_TOMORROW'] = np.array(tomorrow_precipitation)\n",
    "df.drop(columns=['LAT', 'LON'], inplace=True)"
   ]
  },
  {
   "cell_type": "code",
   "execution_count": 10,
   "metadata": {},
   "outputs": [
    {
     "name": "stdout",
     "output_type": "stream",
     "text": [
      "<class 'pandas.core.frame.DataFrame'>\n",
      "RangeIndex: 2223 entries, 0 to 2222\n",
      "Data columns (total 28 columns):\n",
      " #   Column             Non-Null Count  Dtype  \n",
      "---  ------             --------------  -----  \n",
      " 0   DY                 2223 non-null   int64  \n",
      " 1   MO                 2223 non-null   int64  \n",
      " 2   YEAR               2223 non-null   int64  \n",
      " 3   PRECTOT            2223 non-null   float64\n",
      " 4   WS50M              2223 non-null   float64\n",
      " 5   T2MDEW             2223 non-null   float64\n",
      " 6   WS50M_RANGE        2223 non-null   float64\n",
      " 7   CLRSKY_SFC_SW_DWN  892 non-null    float64\n",
      " 8   T2M                2223 non-null   float64\n",
      " 9   WS50M_MAX          2223 non-null   float64\n",
      " 10  RH2M               2223 non-null   float64\n",
      " 11  WS10M_MAX          2223 non-null   float64\n",
      " 12  WS10M_RANGE        2223 non-null   float64\n",
      " 13  WS10M_MIN          2223 non-null   float64\n",
      " 14  ALLSKY_SFC_SW_DWN  2215 non-null   float64\n",
      " 15  PS                 2223 non-null   float64\n",
      " 16  KT                 2213 non-null   float64\n",
      " 17  WS50M_MIN          2223 non-null   float64\n",
      " 18  ALLSKY_SFC_LW_DWN  2221 non-null   float64\n",
      " 19  T2M_RANGE          2223 non-null   float64\n",
      " 20  WS10M              2223 non-null   float64\n",
      " 21  T2MWET             2223 non-null   float64\n",
      " 22  QV2M               2223 non-null   float64\n",
      " 23  TS                 2223 non-null   float64\n",
      " 24  T2M_MAX            2223 non-null   float64\n",
      " 25  T2M_MIN            2223 non-null   float64\n",
      " 26  PRECTOT_TODAY      2223 non-null   int32  \n",
      " 27  PRECTOT_TOMORROW   2223 non-null   int32  \n",
      "dtypes: float64(23), int32(2), int64(3)\n",
      "memory usage: 469.0 KB\n"
     ]
    }
   ],
   "source": [
    "df.info()"
   ]
  },
  {
   "cell_type": "code",
   "execution_count": 11,
   "metadata": {},
   "outputs": [],
   "source": [
    "X = df.drop('PRECTOT_TOMORROW', axis=1)\n",
    "y = df['PRECTOT_TOMORROW']\n",
    "\n",
    "X.drop(columns=['DY', 'MO', 'YEAR'], inplace=True)\n",
    "\n",
    "from sklearn.model_selection import train_test_split\n",
    "\n",
    "# Split the data into test and train sets.  \n",
    "X_train, X_test, y_train, y_test = train_test_split(X, y, test_size = 0.2, random_state = 1)"
   ]
  },
  {
   "cell_type": "code",
   "execution_count": 12,
   "metadata": {},
   "outputs": [
    {
     "name": "stderr",
     "output_type": "stream",
     "text": [
      "C:\\Users\\desmi\\AppData\\Roaming\\Python\\Python36\\site-packages\\pandas\\core\\series.py:4536: SettingWithCopyWarning: \n",
      "A value is trying to be set on a copy of a slice from a DataFrame\n",
      "\n",
      "See the caveats in the documentation: https://pandas.pydata.org/pandas-docs/stable/user_guide/indexing.html#returning-a-view-versus-a-copy\n",
      "  downcast=downcast,\n"
     ]
    }
   ],
   "source": [
    "# impute missing values in X_train and X_test with respective column median in X_train\n",
    "\n",
    "X_train.fillna(X_train.mean(), inplace=True)\n",
    "X_test.fillna(X_test.mean(), inplace=True)"
   ]
  },
  {
   "cell_type": "code",
   "execution_count": 13,
   "metadata": {},
   "outputs": [
    {
     "data": {
      "text/plain": [
       "PRECTOT              0\n",
       "WS50M                0\n",
       "T2MDEW               0\n",
       "WS50M_RANGE          0\n",
       "CLRSKY_SFC_SW_DWN    0\n",
       "T2M                  0\n",
       "WS50M_MAX            0\n",
       "RH2M                 0\n",
       "WS10M_MAX            0\n",
       "WS10M_RANGE          0\n",
       "WS10M_MIN            0\n",
       "ALLSKY_SFC_SW_DWN    0\n",
       "PS                   0\n",
       "KT                   0\n",
       "WS50M_MIN            0\n",
       "ALLSKY_SFC_LW_DWN    0\n",
       "T2M_RANGE            0\n",
       "WS10M                0\n",
       "T2MWET               0\n",
       "QV2M                 0\n",
       "TS                   0\n",
       "T2M_MAX              0\n",
       "T2M_MIN              0\n",
       "PRECTOT_TODAY        0\n",
       "dtype: int64"
      ]
     },
     "execution_count": 13,
     "metadata": {},
     "output_type": "execute_result"
    }
   ],
   "source": [
    "X_test.isna().sum()"
   ]
  },
  {
   "cell_type": "code",
   "execution_count": 14,
   "metadata": {},
   "outputs": [],
   "source": [
    "from sklearn.preprocessing import MinMaxScaler\n",
    "\n",
    "scaler = MinMaxScaler()\n",
    "\n",
    "X_train = scaler.fit_transform(X_train)\n",
    "X_test = scaler.transform(X_test)\n",
    "\n",
    "X_train = pd.DataFrame(X_train, columns=[X.columns])\n",
    "X_test = pd.DataFrame(X_test, columns=[X.columns])"
   ]
  },
  {
   "cell_type": "code",
   "execution_count": 15,
   "metadata": {},
   "outputs": [
    {
     "data": {
      "text/plain": [
       "LogisticRegression(solver='liblinear')"
      ]
     },
     "execution_count": 15,
     "metadata": {},
     "output_type": "execute_result"
    }
   ],
   "source": [
    "# train a logistic regression model on the training set\n",
    "from sklearn.linear_model import LogisticRegression\n",
    "\n",
    "# instantiate the model\n",
    "logreg = LogisticRegression(solver='liblinear')\n",
    "\n",
    "# fit the model\n",
    "logreg.fit(X_train, y_train)"
   ]
  },
  {
   "cell_type": "code",
   "execution_count": 16,
   "metadata": {},
   "outputs": [
    {
     "name": "stdout",
     "output_type": "stream",
     "text": [
      "Training set score: 0.7750\n",
      "Test set score: 0.7685\n"
     ]
    }
   ],
   "source": [
    "# print the scores on training and test set\n",
    "\n",
    "print('Training set score: {:.4f}'.format(logreg.score(X_train, y_train)))\n",
    "\n",
    "print('Test set score: {:.4f}'.format(logreg.score(X_test, y_test)))\n",
    "test_accuracy = logreg.score(X_test, y_test)"
   ]
  },
  {
   "cell_type": "code",
   "execution_count": 17,
   "metadata": {},
   "outputs": [
    {
     "name": "stdout",
     "output_type": "stream",
     "text": [
      "Best accuracy we got 0.7843, using 72.4767 as C value\n"
     ]
    }
   ],
   "source": [
    "max_accur, best_c_val = test_accuracy, 15\n",
    "c_vals = np.linspace(1, 200, 2000)\n",
    "\n",
    "test_accur_over_c = np.zeros(2000)\n",
    "train_accur_over_c = np.zeros(2000)\n",
    "\n",
    "for i in range(len(c_vals)):\n",
    "    # fit the Logsitic Regression model with C=100\n",
    "    # instantiate the model\n",
    "    logreg = LogisticRegression(C=c_vals[i], solver='liblinear')\n",
    "\n",
    "    # fit the model\n",
    "    logreg.fit(X_train, y_train)\n",
    "    \n",
    "    test_accur = logreg.score(X_test, y_test)\n",
    "    train_accur = logreg.score(X_train, y_train)\n",
    "    \n",
    "    test_accur_over_c[i] = test_accur\n",
    "    train_accur_over_c[i] = train_accur\n",
    "    \n",
    "    if test_accur > max_accur:\n",
    "        best_c_val = c_vals[i]\n",
    "        max_accur = test_accur\n",
    "\n",
    "print(\"Best accuracy we got {:.4f}, using {:.4f} as C value\".format(max_accur, best_c_val))"
   ]
  },
  {
   "cell_type": "code",
   "execution_count": 18,
   "metadata": {},
   "outputs": [
    {
     "data": {
      "image/png": "[encoded data removed]",
      "text/plain": [
       "<Figure size 720x360 with 1 Axes>"
      ]
     },
     "metadata": {
      "needs_background": "light"
     },
     "output_type": "display_data"
    }
   ],
   "source": [
    "plt.figure(figsize=(10,5))\n",
    "plt.plot(c_vals, test_accur_over_c, label=\"test accuracy\")\n",
    "plt.plot(c_vals, train_accur_over_c, label=\"train accuracy\")\n",
    "\n",
    "plt.xlabel('c_vals')\n",
    "plt.ylabel('accuracy')\n",
    "\n",
    "plt.legend()\n",
    "\n",
    "plt.grid()\n",
    "plt.show()"
   ]
  },
  {
   "cell_type": "code",
   "execution_count": 19,
   "metadata": {},
   "outputs": [],
   "source": [
    "m = X_test.shape[0]\n",
    "\n",
    "test_error_over_m = np.zeros(m)\n",
    "train_error_over_m = np.zeros(m)"
   ]
  },
  {
   "cell_type": "code",
   "execution_count": 21,
   "metadata": {},
   "outputs": [],
   "source": [
    "from sklearn.metrics import mean_squared_error\n",
    "\n",
    "for m_val in range(1, m):\n",
    "    new_X_train = X_train[:m_val+1]\n",
    "    new_y_train = y_train[:m_val+1]\n",
    "    \n",
    "    new_X_test = X_test[:m_val+1]\n",
    "    new_y_test = y_test[:m_val+1]\n",
    "    \n",
    "    logreg = LogisticRegression(C=best_c_val, solver='liblinear', random_state=0)\n",
    "\n",
    "    # fit the model\n",
    "    logreg.fit(new_X_train, new_y_train)\n",
    "    \n",
    "    train_error_over_m[m_val] = mean_squared_error(new_y_train, logreg.predict(new_X_train))\n",
    "    test_error_over_m[m_val] = mean_squared_error(new_y_test, logreg.predict(new_X_test))"
   ]
  },
  {
   "cell_type": "code",
   "execution_count": 22,
   "metadata": {},
   "outputs": [
    {
     "data": {
      "image/png": "[encoded data removed]",
      "text/plain": [
       "<Figure size 720x360 with 1 Axes>"
      ]
     },
     "metadata": {
      "needs_background": "light"
     },
     "output_type": "display_data"
    }
   ],
   "source": [
    "plt.figure(figsize=(10,5))\n",
    "\n",
    "plt.plot(list(range(1, m + 1)), test_error_over_m, label=\"Test Error\")\n",
    "plt.plot(list(range(1, m + 1)), train_error_over_m, label=\"Train Error\")\n",
    "\n",
    "plt.xlabel('Set Size')\n",
    "plt.ylabel('Mean Squared Error')\n",
    "\n",
    "plt.legend()\n",
    "\n",
    "plt.grid()\n",
    "plt.show()"
   ]
  },
  {
   "cell_type": "code",
   "execution_count": null,
   "metadata": {},
   "outputs": [],
   "source": []
  }
 ],
 "metadata": {
  "kernelspec": {
   "display_name": "Python 3",
   "language": "python",
   "name": "python3"
  },
  "language_info": {
   "codemirror_mode": {
    "name": "ipython",
    "version": 3
   },
   "file_extension": ".py",
   "mimetype": "text/x-python",
   "name": "python",
   "nbconvert_exporter": "python",
   "pygments_lexer": "ipython3",
   "version": "3.6.9"
  }
 },
 "nbformat": 4,
 "nbformat_minor": 4
}
